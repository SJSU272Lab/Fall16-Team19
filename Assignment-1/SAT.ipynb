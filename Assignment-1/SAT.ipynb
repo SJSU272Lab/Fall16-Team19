{
 "cells": [
  {
   "cell_type": "code",
   "execution_count": null,
   "metadata": {
    "collapsed": true
   },
   "outputs": [],
   "source": [
    "# Insights on SAT Scores and Train accidents\n",
    "\n",
    "This notebook shows you how to analyze train accidents based on accident reports 2015 national wide and SAT scores 2015. The analysis steps in the notebook show how you can use the information about accidents to learn more about the possible causes for collisions."
   ]
  },
  {
   "cell_type": "code",
   "execution_count": 114,
   "metadata": {
    "collapsed": true
   },
   "outputs": [],
   "source": [
    "def set_hadoop_config(credentials_1):\n",
    "    prefix = \"fs.swift.service.\" + credentials['name'] \n",
    "    hconf = sc._jsc.hadoopConfiguration()\n",
    "    hconf.set(prefix + \".auth.url\", credentials['auth_url']+'/v3/auth/tokens')\n",
    "    hconf.set(prefix + \".auth.endpoint.prefix\", \"endpoints\")\n",
    "    hconf.set(prefix + \".tenant\", credentials['project_id'])\n",
    "    hconf.set(prefix + \".username\", credentials['user_id'])\n",
    "    hconf.set(prefix + \".password\", credentials['password'])\n",
    "    hconf.setInt(prefix + \".http.port\", 8080)\n",
    "    hconf.set(prefix + \".region\", credentials['region'])\n",
    "    hconf.setBoolean(prefix + \".public\", True)"
   ]
  },
  {
   "cell_type": "code",
   "execution_count": 115,
   "metadata": {
    "collapsed": true
   },
   "outputs": [],
   "source": [
    "credentials = {\n",
    "  'auth_url':'https://identity.open.softlayer.com',\n",
    "  'project':'object_storage_3af148c2_ad8a_4e20_950b_52ddebd2c9af',\n",
    "  'project_id':'f6f24a60a7554abf9297467b358c8b1c',\n",
    "  'region':'dallas',\n",
    "  'user_id':'2fb9d812f4174bb8a4c8f274e8198446',\n",
    "  'domain_id':'c76dcd603e2f49d08f1dfae089626a65',\n",
    "  'domain_name':'1141927',\n",
    "  'username':'admin_1fec61fc032767652786d0994956536d3a873a75',\n",
    "  'password':\"\"\"WqWsj18I=]DwMN34\"\"\",\n",
    "  'filename':'sat15.csv',\n",
    "  'container':'notebooks',\n",
    "  'tenantId':'s303-52812df91a63ae-4f6a0a5a8427'\n",
    "}"
   ]
  },
  {
   "cell_type": "code",
   "execution_count": 116,
   "metadata": {
    "collapsed": false
   },
   "outputs": [],
   "source": [
    "credentials['name'] = 'keystone'\n",
    "set_hadoop_config(credentials)"
   ]
  },
  {
   "cell_type": "code",
   "execution_count": 165,
   "metadata": {
    "collapsed": false
   },
   "outputs": [
    {
     "data": {
      "text/plain": [
       "DataFrame[cds: int, rtype: string, sname: string, dname: string, cname: string, enroll12: int, NumTstTakr: int, AvgScrRead: string, AvgScrMath: string, AvgScrWrite: string, NumGE1500: string, PctGE1500: string]"
      ]
     },
     "execution_count": 165,
     "metadata": {},
     "output_type": "execute_result"
    }
   ],
   "source": [
    "from __future__ import division\n",
    "import numpy as np\n",
    "\n",
    "from pyspark.sql import SQLContext\n",
    "sqlContext = SQLContext(sc)\n",
    "\n",
    "# adding the PySpark modul to SparkContext\n",
    "sc.addPyFile(\"https://raw.githubusercontent.com/seahboonsiew/pyspark-csv/master/pyspark_csv.py\")\n",
    "import pyspark_csv as pycsv\n",
    "\n",
    "satscores = sc.textFile(\"swift://\" + credentials['container'] + \".\" + credentials['name'] + \"/sat15.csv\")\n",
    "\n",
    "def skip_header(idx, iterator):\n",
    "    if (idx == 0):\n",
    "        next(iterator)\n",
    "    return iterator\n",
    "\n",
    "score_header = satscores.first()\n",
    "\n",
    "\n",
    "score_header_list = score_header.split(\",\")\n",
    "score_body = satscores.mapPartitionsWithIndex(skip_header)\n",
    "\n",
    "\n",
    "# create Spark DataFrame using pyspark-csv\n",
    "sat_df = pycsv.csvToDataFrame(sqlContext, score_body, sep=\",\", columns=score_header_list)\n",
    "sat_df.cache()"
   ]
  },
  {
   "cell_type": "code",
   "execution_count": 166,
   "metadata": {
    "collapsed": false
   },
   "outputs": [
    {
     "name": "stdout",
     "output_type": "stream",
     "text": [
      "root\n",
      " |-- cds: integer (nullable = true)\n",
      " |-- rtype: string (nullable = true)\n",
      " |-- sname: string (nullable = true)\n",
      " |-- dname: string (nullable = true)\n",
      " |-- cname: string (nullable = true)\n",
      " |-- enroll12: integer (nullable = true)\n",
      " |-- NumTstTakr: integer (nullable = true)\n",
      " |-- AvgScrRead: string (nullable = true)\n",
      " |-- AvgScrMath: string (nullable = true)\n",
      " |-- AvgScrWrite: string (nullable = true)\n",
      " |-- NumGE1500: string (nullable = true)\n",
      " |-- PctGE1500: string (nullable = true)\n",
      "\n"
     ]
    }
   ],
   "source": [
    "# Python expressions in a code cell will be outputted after computation\n",
    "sat_df.printSchema()"
   ]
  },
  {
   "cell_type": "code",
   "execution_count": 169,
   "metadata": {
    "collapsed": false
   },
   "outputs": [
    {
     "name": "stdout",
     "output_type": "stream",
     "text": [
      "+-----+\n",
      "|rtype|\n",
      "+-----+\n",
      "|    X|\n",
      "|    C|\n",
      "|    D|\n",
      "|    S|\n",
      "|    S|\n",
      "|    S|\n",
      "|    D|\n",
      "|    S|\n",
      "|    S|\n",
      "|    S|\n",
      "|    S|\n",
      "|    S|\n",
      "|    S|\n",
      "|    S|\n",
      "|    D|\n",
      "|    S|\n",
      "|    D|\n",
      "|    S|\n",
      "|    S|\n",
      "|    S|\n",
      "+-----+\n",
      "only showing top 20 rows\n",
      "\n"
     ]
    }
   ],
   "source": [
    "sat_df.select(\"rtype\").show()\n"
   ]
  },
  {
   "cell_type": "code",
   "execution_count": 156,
   "metadata": {
    "collapsed": false
   },
   "outputs": [
    {
     "data": {
      "text/plain": [
       "2331"
      ]
     },
     "execution_count": 156,
     "metadata": {},
     "output_type": "execute_result"
    }
   ],
   "source": [
    "sat_df.count()"
   ]
  },
  {
   "cell_type": "code",
   "execution_count": 193,
   "metadata": {
    "collapsed": false
   },
   "outputs": [
    {
     "name": "stdout",
     "output_type": "stream",
     "text": [
      "+----------+-----+--------------------+--------------------+-------+--------+----------+----------+----------+-----------+---------+---------+\n",
      "|       cds|rtype|               sname|               dname|  cname|enroll12|NumTstTakr|AvgScrRead|AvgScrMath|AvgScrWrite|NumGE1500|PctGE1500|\n",
      "+----------+-----+--------------------+--------------------+-------+--------+----------+----------+----------+-----------+---------+---------+\n",
      "| 658482059|    S| FAME Public Charter|Alameda County Of...|Alameda|      62|        17|       503|       546|        505|        9|    52.94|\n",
      "| 658484831|    S|Envision Academy ...|Alameda County Of...|Alameda|      75|        71|       397|       387|        395|        5|     7.04|\n",
      "| 658490713|    S|Aspire California...|Alameda County Of...|Alameda|      61|         0|        NA|        NA|         NA|       NA|       NA|\n",
      "| 577370401|    S|Alameda Science a...|     Alameda Unified|Alameda|      36|        36|       562|       590|        555|       29|    80.56|\n",
      "| 577383222|    S|Nea Community Lea...|     Alameda Unified|Alameda|      12|         6|         *|         *|          *|        *|        *|\n",
      "| 577394229|    S|        Alameda High|     Alameda Unified|Alameda|     465|       325|       543|       573|        543|      229|    70.46|\n",
      "| 577394609|    S|Alameda Community...|     Alameda Unified|Alameda|      26|        20|       575|       593|        581|       16|    80.00|\n",
      "| 577394625|    S|Alternatives in A...|     Alameda Unified|Alameda|      41|        23|       352|       350|        343|        1|     4.35|\n",
      "| 577396878|    S|        Encinal High|     Alameda Unified|Alameda|     238|       132|       483|       504|        476|       56|    42.42|\n",
      "| 577398304|    S|Island High (Cont...|     Alameda Unified|Alameda|     100|         2|         *|         *|          *|        *|        *|\n",
      "| 657394450|    S|         Albany High| Albany City Unified|Alameda|     273|       178|       572|       599|        574|      136|    76.40|\n",
      "| 817386697|    S|  REALM Charter High|    Berkeley Unified|Alameda|      76|        36|       384|       360|        386|        2|     5.56|\n",
      "| 817395177|    S|       Berkeley High|    Berkeley Unified|Alameda|     741|       450|       583|       580|        574|      335|    74.44|\n",
      "| 817398924|    S|Berkeley Technolo...|    Berkeley Unified|Alameda|      59|         4|         *|         *|          *|        *|        *|\n",
      "| 887396225|    S|  Castro Valley High|Castro Valley Uni...|Alameda|     688|       438|       527|       556|        524|      273|    62.33|\n",
      "|1067396746|    S|     Emery Secondary|       Emery Unified|Alameda|      47|        23|       420|       433|        441|        6|    26.09|\n",
      "|1147394062|    S|       American High|     Fremont Unified|Alameda|     457|       309|       573|       608|        592|      243|    78.64|\n",
      "|1147394138|    S|Robertson High (C...|     Fremont Unified|Alameda|     119|         1|         *|         *|          *|        *|        *|\n",
      "|1147394435|    S|   Vista Alternative|     Fremont Unified|Alameda|      23|         0|        NA|        NA|         NA|       NA|       NA|\n",
      "|1147394534|    S|Circle of Indepen...|     Fremont Unified|Alameda|      44|         5|         *|         *|          *|        *|        *|\n",
      "+----------+-----+--------------------+--------------------+-------+--------+----------+----------+----------+-----------+---------+---------+\n",
      "only showing top 20 rows\n",
      "\n"
     ]
    }
   ],
   "source": [
    "district = sat_df.filter(\"rtype ='S'\")\n",
    "district.show()"
   ]
  },
  {
   "cell_type": "code",
   "execution_count": 194,
   "metadata": {
    "collapsed": false
   },
   "outputs": [
    {
     "name": "stdout",
     "output_type": "stream",
     "text": [
      "+-----------+-----+\n",
      "|      cname|count|\n",
      "+-----------+-----+\n",
      "|       Inyo|    9|\n",
      "|     Shasta|   17|\n",
      "|     Orange|   90|\n",
      "|   Mariposa|    2|\n",
      "|     Placer|   25|\n",
      "|     Tehama|    4|\n",
      "|       Yolo|    9|\n",
      "|      Butte|   17|\n",
      "|     Colusa|    6|\n",
      "|    Ventura|   34|\n",
      "|    Trinity|    3|\n",
      "|Santa Clara|   60|\n",
      "|   Humboldt|   15|\n",
      "|       Lake|    5|\n",
      "|  San Mateo|   25|\n",
      "|     Fresno|   60|\n",
      "|   Siskiyou|    8|\n",
      "|    Alameda|   74|\n",
      "|Los Angeles|  406|\n",
      "|       Yuba|    7|\n",
      "+-----------+-----+\n",
      "only showing top 20 rows\n",
      "\n"
     ]
    }
   ],
   "source": [
    "sat_county = district.groupBy(\"cname\").count()\n",
    "sat_county.show()"
   ]
  },
  {
   "cell_type": "code",
   "execution_count": 189,
   "metadata": {
    "collapsed": false
   },
   "outputs": [
    {
     "name": "stdout",
     "output_type": "stream",
     "text": [
      "Requirement already satisfied (use --upgrade to upgrade): seaborn in /gpfs/global_fs01/sym_shared/YPProdSpark/user/s303-52812df91a63ae-4f6a0a5a8427/.local/lib/python2.7/site-packages\r\n"
     ]
    }
   ],
   "source": [
    "!pip install --user seaborn"
   ]
  },
  {
   "cell_type": "code",
   "execution_count": 190,
   "metadata": {
    "collapsed": false
   },
   "outputs": [],
   "source": [
    "%matplotlib inline\n",
    "\n",
    "import matplotlib.pyplot as plt\n",
    "# matplotlib.patches allows us create colored patches, we can use for legends in plots\n",
    "import matplotlib.patches as mpatches\n",
    "# seaborn also builds on matplotlib and adds graphical features and new plot types\n",
    "import seaborn as sns\n",
    "import pandas as pd"
   ]
  },
  {
   "cell_type": "code",
   "execution_count": 195,
   "metadata": {
    "collapsed": false
   },
   "outputs": [
    {
     "name": "stdout",
     "output_type": "stream",
     "text": [
      "+-------------+-----+\n",
      "|        cname|count|\n",
      "+-------------+-----+\n",
      "|       Shasta|   17|\n",
      "|       Orange|   90|\n",
      "|       Placer|   25|\n",
      "|        Butte|   17|\n",
      "|      Ventura|   34|\n",
      "|  Santa Clara|   60|\n",
      "|     Humboldt|   15|\n",
      "|    San Mateo|   25|\n",
      "|       Fresno|   60|\n",
      "|      Alameda|   74|\n",
      "|  Los Angeles|  406|\n",
      "|       Sonoma|   27|\n",
      "|       Tulare|   35|\n",
      "|San Francisco|   27|\n",
      "|        Marin|   12|\n",
      "|       Solano|   13|\n",
      "| Contra Costa|   43|\n",
      "|   Sacramento|   68|\n",
      "|       Madera|   14|\n",
      "|         Kern|   40|\n",
      "+-------------+-----+\n",
      "only showing top 20 rows\n",
      "\n"
     ]
    }
   ],
   "source": [
    "refine_county = sat_county.filter(\"count > 10\")\n",
    "refine_county.show()"
   ]
  },
  {
   "cell_type": "code",
   "execution_count": 200,
   "metadata": {
    "collapsed": false
   },
   "outputs": [],
   "source": [
    "import pandas as pd\n",
    "schoolDf = refine_county.orderBy((\"count\"), (\"cname\")).toPandas()\n"
   ]
  },
  {
   "cell_type": "code",
   "execution_count": null,
   "metadata": {
    "collapsed": true
   },
   "outputs": [],
   "source": [
    "# This is the graph plotted between the Counties in California and number of schools conducting SAT exams in each county"
   ]
  },
  {
   "cell_type": "code",
   "execution_count": 218,
   "metadata": {
    "collapsed": false
   },
   "outputs": [
    {
     "data": {
      "image/png": "[encoded data removed]",
      "text/plain": [
       "<matplotlib.figure.Figure at 0x7fd27a72e650>"
      ]
     },
     "metadata": {},
     "output_type": "display_data"
    }
   ],
   "source": [
    "# The data\n",
    "values = schoolDf['count']\n",
    "labels = schoolDf['cname']\n",
    "\n",
    "# The format\n",
    "plt.gcf().set_size_inches(16, 12, forward=True)\n",
    "plt.title('Number of Schools which conducts SAT exam')\n",
    "\n",
    "# Barh is a horizontal bar chart with values (x axis) and labels (y axis)\n",
    "plt.barh(range(len(values)), values)\n",
    "plt.yticks(range(len(values)), labels)\n",
    "\n",
    "# Print the plot\n",
    "plt.show()"
   ]
  },
  {
   "cell_type": "code",
   "execution_count": null,
   "metadata": {
    "collapsed": true
   },
   "outputs": [],
   "source": [
    "## This is train crash data  of 2015"
   ]
  },
  {
   "cell_type": "code",
   "execution_count": null,
   "metadata": {
    "collapsed": true
   },
   "outputs": [],
   "source": [
    "credentials_2 = {\n",
    "  'auth_url':'https://identity.open.softlayer.com',\n",
    "  'project':'object_storage_3af148c2_ad8a_4e20_950b_52ddebd2c9af',\n",
    "  'project_id':'f6f24a60a7554abf9297467b358c8b1c',\n",
    "  'region':'dallas',\n",
    "  'user_id':'2fb9d812f4174bb8a4c8f274e8198446',\n",
    "  'domain_id':'c76dcd603e2f49d08f1dfae089626a65',\n",
    "  'domain_name':'1141927',\n",
    "  'username':'admin_1fec61fc032767652786d0994956536d3a873a75',\n",
    "  'password':\"\"\"WqWsj18I=]DwMN34\"\"\",\n",
    "  'filename':'traincrashes.csv',\n",
    "  'container':'notebooks',\n",
    "  'tenantId':'s303-52812df91a63ae-4f6a0a5a8427'\n",
    "}"
   ]
  },
  {
   "cell_type": "code",
   "execution_count": 220,
   "metadata": {
    "collapsed": false
   },
   "outputs": [
    {
     "data": {
      "text/plain": [
       "DataFrame[Date: timestamp, City, State: string, Street: string, Railroad: string, Description: string]"
      ]
     },
     "execution_count": 220,
     "metadata": {},
     "output_type": "execute_result"
    }
   ],
   "source": [
    "from __future__ import division\n",
    "import numpy as np\n",
    "\n",
    "from pyspark.sql import SQLContext\n",
    "sqlContext = SQLContext(sc)\n",
    "\n",
    "# adding the PySpark modul to SparkContext\n",
    "sc.addPyFile(\"https://raw.githubusercontent.com/seahboonsiew/pyspark-csv/master/pyspark_csv.py\")\n",
    "import pyspark_csv as pycsv\n",
    "\n",
    "collisions = sc.textFile(\"swift://\" + credentials['container'] + \".\" + credentials['name'] + \"/traincrashes.csv\")\n",
    "\n",
    "def skip_header(idx, iterator):\n",
    "    if (idx == 0):\n",
    "        next(iterator)\n",
    "    return iterator\n",
    "\n",
    "train_collision_header = satscores.first()\n",
    "\n",
    "\n",
    "train_collision_header_list = train_collision_header.split(\"|\")\n",
    "train_body = collisions.mapPartitionsWithIndex(skip_header)\n",
    "\n",
    "\n",
    "# create Spark DataFrame using pyspark-csv\n",
    "train_collision_df = pycsv.csvToDataFrame(sqlContext, train_body, sep=\"|\", columns=train_collision_header_list)\n",
    "train_collision_df.cache()"
   ]
  },
  {
   "cell_type": "code",
   "execution_count": 223,
   "metadata": {
    "collapsed": false
   },
   "outputs": [
    {
     "name": "stdout",
     "output_type": "stream",
     "text": [
      "root\n",
      " |-- Date: timestamp (nullable = true)\n",
      " |-- City, State: string (nullable = true)\n",
      " |-- Street: string (nullable = true)\n",
      " |-- Railroad: string (nullable = true)\n",
      " |-- Description: string (nullable = true)\n",
      "\n",
      "+--------------------+--------------------+-------------------+--------------------+--------------------+\n",
      "|                Date|         City, State|             Street|            Railroad|         Description|\n",
      "+--------------------+--------------------+-------------------+--------------------+--------------------+\n",
      "|2015-12-31 23:58:...|   CHESTER, VIRGINIA|     CENTRALIA ROAD|  CSX Transportation|Q43930 STRUCK A V...|\n",
      "|2015-12-31 23:30:...|            ILLINOIS|           111TH ST|Wisconsin Central...|DRIVER FAILED TO ...|\n",
      "|2015-12-31 17:35:...|           WISCONSIN|             CTH MM|Wisconsin Central...|VEHICLE TRAVELING...|\n",
      "|2015-12-30 21:49:...|OLIVEHURST, CALIF...|       ALGODON ROAD|Union Pacific Rai...|VEHICLE BRAKES FA...|\n",
      "|2015-12-30 14:28:...|   EAGLE LAKE, TEXAS|             FM3013|Union Pacific Rai...|VEHICLE WAS STOPP...|\n",
      "|2015-12-30 14:25:...|   BUSHNELL, FLORIDA|      E CENTRAL AVE|  CSX Transportation|NORTHBOUND FREIGH...|\n",
      "|2015-12-30 11:00:...|  HAMMOND, LOUISIANA|   LINCOLNS PARK RD|Illinois Central ...|DRIVER FAILED TO ...|\n",
      "|2015-12-30 07:43:...| ROSWELL, NEW MEXICO|              HWY 2|Southwestern Rail...|ENGINEER STARTED ...|\n",
      "|2015-12-30 07:20:...|    TOLUCA, ILLINOIS|         IL SH 116A|BNSF Railway Company|DRIVER AGE UNKNOW...|\n",
      "|2015-12-30 07:18:...|      LILLY, GEORGIA|              SR 90|  CSX Transportation|K85127 STRUCK A 1...|\n",
      "|2015-12-29 14:50:...|              OREGON|        MILLER LANE|Union Pacific Rai...|VEHICLE DID NOT S...|\n",
      "|2015-12-29 13:10:...| METAIRIE, LOUISIANA|      METAIRIE ROAD|Union Pacific Rai...|HIGHWAY USER WAS ...|\n",
      "|2015-12-29 11:37:...| APPLETON, WISCONSIN|MEMORIAL AT COLLEGE|Wisconsin Central...|VEHICLE HAD BEEN ...|\n",
      "|2015-12-29 05:34:...|  DE PERE, WISCONSIN|       SCHEURING RD|Wisconsin Central...|SIDEWALK SNOW PLO...|\n",
      "|2015-12-28 23:54:...|WORTHINGTON, MINN...|      ARMOUR AVENUE|Union Pacific Rai...|SEMI TRUCK WAS ST...|\n",
      "|2015-12-28 22:45:...|ASHWAUBENON, WISC...|          HANSEN RD|Wisconsin Central...|VEHICLE BECAME ST...|\n",
      "|2015-12-28 18:30:...|LOS ANGELES, CALI...|       ALCOA AVENUE|Union Pacific Rai...|VEHICLE STRUCK A ...|\n",
      "|2015-12-28 14:57:...|               IDAHO|     BLACK CAT ROAD|Union Pacific Rai...|HIGHWAY USER'S AC...|\n",
      "|2015-12-28 13:15:...|   CHICAGO, ILLINOIS|       87TH PULASKI|Northeast IL Regi...|TRAIN #815 WAS TR...|\n",
      "|2015-12-28 12:25:...| MIAMI-DADE, FLORIDA|  N. E. 39TH STREET|Florida East Coas...|TRAIN STRUCK VEHI...|\n",
      "+--------------------+--------------------+-------------------+--------------------+--------------------+\n",
      "only showing top 20 rows\n",
      "\n"
     ]
    }
   ],
   "source": [
    "train_collision_df.printSchema()\n",
    "train_collision_df.show()"
   ]
  },
  {
   "cell_type": "code",
   "execution_count": 222,
   "metadata": {
    "collapsed": false
   },
   "outputs": [
    {
     "name": "stdout",
     "output_type": "stream",
     "text": [
      "+--------------------+-----+\n",
      "|            Railroad|count|\n",
      "+--------------------+-----+\n",
      "|Rio Valley Switch...|    2|\n",
      "|Finger Lakes Rail...|    1|\n",
      "|South Florida Reg...|   10|\n",
      "|Michigan Shore Ra...|    3|\n",
      "|Utah Transit Auth...|    3|\n",
      "|Alabama & Gulf Co...|    1|\n",
      "|Southern New Jers...|    1|\n",
      "|Wilmington Termin...|    1|\n",
      "|BNSF Railway Company|  276|\n",
      "|Eastern Idaho Rai...|    2|\n",
      "|Indiana & Ohio Ra...|    5|\n",
      "|Louisville & Indi...|    1|\n",
      "|North Shore Railroad|    1|\n",
      "|CHICAGO, FT. WAYN...|    1|\n",
      "|New York, Susqueh...|    5|\n",
      "|Georgia Central R...|    2|\n",
      "|Ellis & Eastern C...|    1|\n",
      "|Reading Blue Moun...|    1|\n",
      "|Eastern Washingto...|    1|\n",
      "|Western New York ...|    1|\n",
      "+--------------------+-----+\n",
      "only showing top 20 rows\n",
      "\n"
     ]
    }
   ],
   "source": [
    "collision_by_railroad = train_collision_df.groupBy('Railroad').count()\n",
    "collision_by_railroad.show()"
   ]
  },
  {
   "cell_type": "code",
   "execution_count": 224,
   "metadata": {
    "collapsed": false
   },
   "outputs": [
    {
     "name": "stdout",
     "output_type": "stream",
     "text": [
      "+--------------------+-----+\n",
      "|            Railroad|count|\n",
      "+--------------------+-----+\n",
      "|BNSF Railway Company|  276|\n",
      "|Chicago, Central ...|   15|\n",
      "|Florida East Coas...|   12|\n",
      "|  CSX Transportation|  371|\n",
      "|Consolidated Rail...|   18|\n",
      "|Illinois Central ...|   40|\n",
      "|Union Pacific Rai...|  366|\n",
      "|Wisconsin Central...|   26|\n",
      "|Canadian Pacific ...|   32|\n",
      "|Norfolk Southern ...|  328|\n",
      "|Long Island Rail ...|   12|\n",
      "|Kansas City South...|   57|\n",
      "|Northeast IL Regi...|   12|\n",
      "|Amtrak (National ...|  145|\n",
      "+--------------------+-----+\n",
      "\n"
     ]
    }
   ],
   "source": [
    "refine_collision_by_railroad = collision_by_railroad.filter(\"count > 10\")\n",
    "refine_collision_by_railroad.show()"
   ]
  },
  {
   "cell_type": "code",
   "execution_count": null,
   "metadata": {
    "collapsed": true
   },
   "outputs": [],
   "source": [
    "# This graph plots the graph between the railroad company and the total number of collisions by each railroad company."
   ]
  },
  {
   "cell_type": "code",
   "execution_count": 229,
   "metadata": {
    "collapsed": false
   },
   "outputs": [
    {
     "data": {
      "image/png": "[encoded data removed]",
      "text/plain": [
       "<matplotlib.figure.Figure at 0x7fd272e75b50>"
      ]
     },
     "metadata": {},
     "output_type": "display_data"
    }
   ],
   "source": [
    "collisions_count = refine_collision_by_railroad.toPandas()\n",
    "colors = ['g','0.75','y','k','b','r']\n",
    "values = collisions_count['count']\n",
    "labels = collisions_count['Railroad']\n",
    "\n",
    "plt.xlabel('Collisions')\n",
    "plt.ylabel('Company')\n",
    "plt.title('Total Number of Collisions by Railroad company', size=15)\n",
    "plt.barh(range(len(values)), values)\n",
    "plt.yticks(range(len(values)), labels)\n",
    "\n",
    "plt.show()"
   ]
  },
  {
   "cell_type": "code",
   "execution_count": null,
   "metadata": {
    "collapsed": true
   },
   "outputs": [],
   "source": []
  }
 ],
 "metadata": {
  "kernelspec": {
   "display_name": "Python 2",
   "language": "python",
   "name": "python2"
  },
  "language_info": {
   "codemirror_mode": {
    "name": "ipython",
    "version": 2
   },
   "file_extension": ".py",
   "mimetype": "text/x-python",
   "name": "python",
   "nbconvert_exporter": "python",
   "pygments_lexer": "ipython2",
   "version": "2.7.11"
  }
 },
 "nbformat": 4,
 "nbformat_minor": 0
}